{
 "cells": [
  {
   "cell_type": "markdown",
   "metadata": {},
   "source": [
    "<table><tr>\n",
    "    <td><img src=\"img/Macc.png\"/></td>\n",
    "    <td><p style=\"font-size:22px;\">Lógica para ciencias de la computación</p></td>\n",
    "</tr></table>\n",
    "\n",
    "# Solución de problemas mediante lógica proposicional y su implementación en Python"
   ]
  },
  {
   "cell_type": "markdown",
   "metadata": {},
   "source": [
    "## Objetivo\n",
    "\n",
    "En el taller anterior hemos visto cómo implementar mediante un string en Python las fórmulas que representan un problema. Ahora veremos cómo usar tablas de verdad y talbeaux para resolver el problema.\n",
    "\n",
    "El proceso de solución de problemas se realiza en dos fases:\n",
    "\n",
    "* En la primera fase se revisa que todos los elementos involucrados en la solución del problema estén correctos. Estos elementos son las restricciones del problema en forma de fórmulas de la lógica proposicional, los strings en Python que implementan dichas fórmulas, el SAT solver, y la visualización del problema.\n",
    "\n",
    "![debugging](img/debugging.png)\n",
    "\n",
    "* En la segunda fase, cuando ya se confirmó que todos los elementos funcionan correctamente, se procede a encontrar la solución del problema y a visualizarlo para fácil comprensión.\n",
    "\n",
    "![solving](img/solving.png)\n",
    "\n",
    "Llevaremos a cabo las dos fases con nuestro problema de ejemplo."
   ]
  },
  {
   "cell_type": "markdown",
   "metadata": {},
   "source": [
    "## Problema de ejemplo\n",
    "Recordemos el problema que representamos en el notebook anterior. Buscamos llenar todas las casillas en una tabla 2x2 con un número de 0 a 3, sin repetir. Por ejemplo:\n",
    "\n",
    "![ejemplo](img/ejemplo.png)\n"
   ]
  },
  {
   "cell_type": "markdown",
   "metadata": {},
   "source": [
    "## Representación del problema\n"
   ]
  },
  {
   "cell_type": "markdown",
   "metadata": {},
   "source": [
    "**Ejercicio 1:**\n",
    "\n",
    "Combine las partes importantes de su código del taller anterior para representar el problema mediante tres reglas, implementadas como strings de Python."
   ]
  },
  {
   "cell_type": "code",
   "execution_count": null,
   "metadata": {},
   "outputs": [],
   "source": [
    "# Aquí las líneas para el objeto de codificación\n",
    "\n",
    "# Aquí las líneas para la clase de las fórmulas\n",
    "\n",
    "# Aquí la función postfix2Tree\n",
    "\n",
    "# Aquí las funciones para la regla 1\n",
    "\n",
    "# Aquí las funciones para la regla 2\n",
    "\n",
    "# Aquí las funciones para la regla 3\n"
   ]
  },
  {
   "cell_type": "markdown",
   "metadata": {},
   "source": [
    "Su código debería mostrar la fórmula que representa el problema después de correr las siguientes líneas:"
   ]
  },
  {
   "cell_type": "code",
   "execution_count": null,
   "metadata": {},
   "outputs": [],
   "source": [
    "# Se define el rango de opciones para cada dimensión de información\n",
    "Nfilas = 2\n",
    "Ncolumnas = 2\n",
    "Nnumeros = 4\n",
    "\n",
    "# Se crea el objeto de codificación\n",
    "cods = objetoCodificacion3D(Nfilas,Ncolumnas,Nnumeros,256)\n",
    "\n",
    "# Se definen los conectivos y las letras\n",
    "conectivos = [\"Y\", \"O\", \">\", \"=\"]\n",
    "letrasProposicionales = [cods.P(f,c,n) for f in range(Nfilas) for c in range(Ncolumnas) for n in range(Nnumeros)]\n",
    "\n",
    "R1 = regla1()\n",
    "R2 = regla2()\n",
    "R3 = regla3()\n",
    "formula = R3 + R2 + \"Y\" + R1 + \"Y\"  \n",
    "A = String2Tree(formula)\n",
    "print(Inorderp(A))"
   ]
  },
  {
   "cell_type": "markdown",
   "metadata": {},
   "source": [
    "## Visualización de una solución\n",
    "\n",
    "Resulta muy útil poder visualizar el mundo posible determinado por una asignación determinada de valores de verdad a las letras proposicionales de nuestro problema. Mediante ella podremos ver si cada regla está funcionando correctamente, implementando las restricciones correspondientes.\n",
    "\n",
    "En el siguiente código se implementa una función que recibe una interpretación y devuelve la visualización de la tabla correspondiente:"
   ]
  },
  {
   "cell_type": "code",
   "execution_count": null,
   "metadata": {},
   "outputs": [],
   "source": [
    "import matplotlib.pyplot as plt\n",
    "import matplotlib.patches as patches\n",
    "\n",
    "def dibujar_tabla(I):\n",
    "    # Visualiza una tabla de 2x2 dada una interpretación I\n",
    "    # Input:\n",
    "    #   - I, una interpretación\n",
    "\n",
    "    # Inicializar figura\n",
    "    fig, axes = plt.subplots()\n",
    "    axes.get_xaxis().set_visible(False)\n",
    "    axes.get_yaxis().set_visible(False)\n",
    "\n",
    "    # Crear líneas tablero\n",
    "    step = 1./2\n",
    "    tangulos = []\n",
    "    for j in range(2):\n",
    "        locacion = j * step\n",
    "        # Crea linea horizontal en el rectangulo\n",
    "        tangulos.append(patches.Rectangle(*[(0, step + locacion), 1, 0.005],\\\n",
    "                facecolor='black'))\n",
    "        # Crea linea vertical en el rectangulo\n",
    "        tangulos.append(patches.Rectangle(*[(step + locacion, 0), 0.005, 1],\\\n",
    "                facecolor='black'))\n",
    "\n",
    "    for t in tangulos:\n",
    "        axes.add_patch(t)\n",
    "    \n",
    "    offset_x = .225\n",
    "    offset_y = -.3\n",
    "\n",
    "    for l in I.keys():\n",
    "        if I[l] != 0:\n",
    "            f,c,n = cods.Pinv(l)\n",
    "#            print(f\"f:{f}, c:{c}, n:{n}\")\n",
    "            axes.text(\n",
    "                c*step+offset_x, (1 - f*step+offset_y), \n",
    "                n, style='italic', fontsize=42\n",
    "            )\n",
    "\n",
    "    plt.show()"
   ]
  },
  {
   "cell_type": "code",
   "execution_count": null,
   "metadata": {},
   "outputs": [],
   "source": [
    "I = {}\n",
    "I[cods.P(0,0,0)] = 1 # Poner un 0 en la casilla 0,0\n",
    "I[cods.P(1,0,2)] = 1 # Poner un 2 en la casilla 1,0\n",
    "I[cods.P(0,1,1)] = 1 # Poner un 1 en la casilla 0,1\n",
    "I"
   ]
  },
  {
   "cell_type": "code",
   "execution_count": null,
   "metadata": {},
   "outputs": [],
   "source": [
    "dibujar_tabla(I)"
   ]
  },
  {
   "cell_type": "markdown",
   "metadata": {},
   "source": [
    "**Ejercicio 2:**\n",
    "\n",
    "Modifique el diccionario `I` para poner un 3 en la casilla 1,1."
   ]
  },
  {
   "cell_type": "code",
   "execution_count": null,
   "metadata": {},
   "outputs": [],
   "source": [
    "# Aquí ejercicio 2"
   ]
  },
  {
   "cell_type": "markdown",
   "metadata": {},
   "source": [
    "El siguiente código implementa una función para generar una interpretación que pone en cada casilla un número aleatorio."
   ]
  },
  {
   "cell_type": "code",
   "execution_count": null,
   "metadata": {},
   "outputs": [],
   "source": [
    "from random import randint\n",
    "\n",
    "def diccionario_aleatorio():\n",
    "    I = {}\n",
    "    for f in range(cods.Nf):\n",
    "        for c in range(cods.Nc):\n",
    "            numero = randint(0,3)\n",
    "            for n in range(cods.Nn):\n",
    "                letra = cods.P(f,c,n)\n",
    "                if n == numero:\n",
    "                    I[letra] = 1\n",
    "                else:\n",
    "                    I[letra] = 0\n",
    "    return I\n",
    "\n",
    "I = diccionario_aleatorio()\n",
    "dibujar_tabla(I)"
   ]
  },
  {
   "cell_type": "markdown",
   "metadata": {},
   "source": [
    "## Solución del problema mediante tablas de verdad\n",
    "\n",
    "Observe que una solución al problema está dada en términos de una interpretación $I$ para la cual la fórmula que representa el problema, llamémosla $A$, es verdadera, es decir $V_I(A)=1$. Esta interpretación nos dice qué valores de verdad atribuirle a cada letra proposicional del problema. Podemos usar tablas de verdad para encontrar esta interpretación y así resolver el problema. "
   ]
  },
  {
   "cell_type": "markdown",
   "metadata": {},
   "source": [
    "**Ejercicio 3:**\n",
    "\n",
    "Copie las líneas de código del taller \"Implementación de tablas de verdad\" para poder correr las tablas de verdad. "
   ]
  },
  {
   "cell_type": "code",
   "execution_count": null,
   "metadata": {},
   "outputs": [],
   "source": [
    "# Función V_I(A, I)\n",
    "\n",
    "# Función para crear todas las interpretaciones\n",
    "\n",
    "# Función que recorre las interpretaciones hasta encontrar una\n",
    "# que hace verdadera a A\n",
    "def encuentra_interpretacion(A, letrasProposicionales):\n",
    "    # Encuentra la primera interpretación que hace verdadera a A\n",
    "    # Input: - A, una fórmula en formato tree\n",
    "    #        - letrasProposicionales, una lista de letras proposicionales\n",
    "\n",
    "    interps = crear_interpretaciones(letrasProposicionales)\n",
    "    # print(\"Se han creado \" + str(len(interps)) + \" interpretaciones.\")\n",
    "\n",
    "    for I in interps:\n",
    "        if V_I(A, I) == 1:\n",
    "            return I\n",
    "\n",
    "    return None"
   ]
  },
  {
   "cell_type": "markdown",
   "metadata": {},
   "source": [
    "Recordemos que las restricciones del problema las hemos representado mediante tres reglas:\n",
    "\n",
    "1. En cada casilla debe haber por lo menos un número. \n",
    "2. En cada casilla no puede haber más de un número. \n",
    "3. El mismo número no puede repetirse en casillas diferentes.\n",
    "\n",
    "Verifiquemos que hemos hecho un trabajo adecuado representando estas reglas. Para cada regla, usamos las tablas de verdad para encontrar una interpretación que haga verdadera la fórmula que la representa. Visualizamos esta interpretación y verificamos que la restricción se cumpla.\n",
    "\n",
    "Respecto a la primera regla, revisamos que la interpretación encontrada sea tal que en cada casilla haya por lo menos un número:"
   ]
  },
  {
   "cell_type": "code",
   "execution_count": null,
   "metadata": {},
   "outputs": [],
   "source": [
    "A = String2Tree(R1)\n",
    "I = encuentra_interpretacion(A, letrasProposicionales)\n",
    "dibujar_tabla(I)"
   ]
  },
  {
   "cell_type": "markdown",
   "metadata": {},
   "source": [
    "**Ejercicio 4:**\n",
    "\n",
    "Revise que la segunda regla esté correctamente implementada, esto es, que la interpretación encontrada determine que no haya más de un número en cada casilla."
   ]
  },
  {
   "cell_type": "code",
   "execution_count": null,
   "metadata": {},
   "outputs": [],
   "source": []
  },
  {
   "cell_type": "markdown",
   "metadata": {},
   "source": [
    "**Ejercicio 5:**\n",
    "\n",
    "Revise que la tercera regla esté correctamente implementada, esto es, que la interpretación encontrada determine que el mismo número no puede repetirse en distintas casillas."
   ]
  },
  {
   "cell_type": "code",
   "execution_count": null,
   "metadata": {},
   "outputs": [],
   "source": []
  },
  {
   "cell_type": "markdown",
   "metadata": {},
   "source": [
    "**Ejercicio 6:**\n",
    "\n",
    "Resuelva el problema con todas las restricciones."
   ]
  },
  {
   "cell_type": "code",
   "execution_count": null,
   "metadata": {},
   "outputs": [],
   "source": []
  },
  {
   "cell_type": "markdown",
   "metadata": {},
   "source": [
    "## Solución del problema mediante tableaux"
   ]
  },
  {
   "cell_type": "markdown",
   "metadata": {},
   "source": [
    "**Ejercicio 7:**\n",
    "\n",
    "1. Importe solo las funciones de tableaux.py\n",
    "2. Use la siguiente función `encuentra_interpretacion_tableaux` para revisar cada una de las tres restricciones del problema.\n",
    "3. Use la siguiente función `encuentra_interpretacion_tableaux` para solucionar el problema."
   ]
  },
  {
   "cell_type": "code",
   "execution_count": null,
   "metadata": {},
   "outputs": [],
   "source": [
    "def encuentra_interpretacion_tableaux(f):\n",
    "\n",
    "\t# Algoritmo de creacion de tableau a partir de lista_hojas\n",
    "\t# Imput: - f, una fórmula como string en notación polaca inversa\n",
    "\t# Output: interpretaciones: lista de listas de literales que hacen\n",
    "\t#\t\t verdadera a f\n",
    "\n",
    "\tglobal listaHojas\n",
    "\tglobal listaInterpsVerdaderas\n",
    "\n",
    "\tlistaHojas = [[A]]\n",
    "\tI = {}\n",
    "\n",
    "\twhile (len(listaHojas) > 0):\n",
    "\t\th = choice(listaHojas)\n",
    "\t\tx = no_literales(h)\n",
    "\t\tif x == None:\n",
    "\t\t\tif par_complementario(h):\n",
    "\t\t\t\tlistaHojas.remove(h)\n",
    "\t\t\telse:\n",
    "\t\t\t\tI = {}\n",
    "\t\t\t\tH = [Inorder(l) for l in h]\n",
    "\t\t\t\tfor l in H:\n",
    "\t\t\t\t\tif '-' not in l:\n",
    "\t\t\t\t\t\tI[l] = 1\n",
    "\t\t\t\t\telse:\n",
    "\t\t\t\t\t\tc = l[-1]\n",
    "\t\t\t\t\t\tI[c] = 0\n",
    "\t\t\t\tbreak\n",
    "\t\telse:\n",
    "\t\t\tclasifica_y_extiende(x, h)\n",
    "\n",
    "\treturn I\n"
   ]
  },
  {
   "cell_type": "markdown",
   "metadata": {},
   "source": [
    "---"
   ]
  },
  {
   "cell_type": "markdown",
   "metadata": {},
   "source": [
    "En este taller, usted aprendió a:\n",
    "\n",
    "1) Dividir la solución del problema en dos fases, una para revisar cada elemento de la implementación y otra para obtener una solución.\n",
    "\n",
    "2) Reconocer que la solución viene en la forma de una interpretación, la cual se visualiza para fácil comprensión.\n",
    "\n",
    "3) Usar las tablas de verdad y los tableaux para encontrar una solución a un problema."
   ]
  }
 ],
 "metadata": {
  "kernelspec": {
   "display_name": "Python 3",
   "language": "python",
   "name": "python3"
  },
  "language_info": {
   "codemirror_mode": {
    "name": "ipython",
    "version": 3
   },
   "file_extension": ".py",
   "mimetype": "text/x-python",
   "name": "python",
   "nbconvert_exporter": "python",
   "pygments_lexer": "ipython3",
   "version": "3.8.5"
  }
 },
 "nbformat": 4,
 "nbformat_minor": 4
}
