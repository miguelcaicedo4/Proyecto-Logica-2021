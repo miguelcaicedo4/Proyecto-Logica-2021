{
 "cells": [
  {
   "cell_type": "markdown",
   "metadata": {},
   "source": [
    "<table><tr>\n",
    "    <td><img src=\"img/Macc.png\"/></td>\n",
    "    <td><p style=\"font-size:22px;\">Lógica para ciencias de la computación</p></td>\n",
    "</tr></table>\n",
    "\n",
    "# Codificación de problemas mediante lógica proposicional y su implementación en Python"
   ]
  },
  {
   "cell_type": "markdown",
   "metadata": {},
   "source": [
    "## Objetivo\n",
    "\n",
    "En el taller anterior hemos visto una forma de representar, por medio de letras proposicionales y fórmulas lógicas, una situación, sus restricciones, y el problema que se busca resolver. El objetivo ahora es implementar esto mediante un código Python para así resolver el problema mediante los métodos de tablas de verdad y tableaux. En este notebook veremos cómo implementar las fórmulas que representan un problema mediante strings en Python. En el notebook siguiente veremos cómo resolver el problema usando tablas de vertad y tableaux.\n",
    "\n",
    "## Problema de ejemplo\n",
    "En este taller trabajaremos sobre el siguiente problema. Buscamos llenar todas las casillas en una tabla 2x2 con un número de 0 a 3, sin repetir. Por ejemplo:\n",
    "\n",
    "![ejemplo](img/ejemplo.png)\n",
    "\n",
    "## Representación del problema\n",
    "\n",
    "### Letras proposicionales\n",
    "Debemos primero representar las letras proposicionales, las cuales cruzan la información de qué número está en qué casilla:\n",
    "\n",
    "P(fila, columna, número)\n",
    "\n",
    "Explicaremos cómo implementar este cruce de información en python en dos etapas distintas. Primero codificaremos únicamente la fila y columna de las casillas del tablero. Luego nos basaremos en esta primera codificación para añadir la información sobre el número dentro de la casilla."
   ]
  },
  {
   "cell_type": "markdown",
   "metadata": {},
   "source": [
    "**Primera etapa de la codificación de las letras proposicionales en Python**\n",
    "\n",
    "Como queremos que cada letra proposicional sea un único caracter, sugerimos usar el siguiente objeto de codificación y decodificación, el cual sirve para cruzar la información que van a representar las letras proposicionales: "
   ]
  },
  {
   "cell_type": "code",
   "execution_count": null,
   "metadata": {},
   "outputs": [],
   "source": [
    "class objetoCodificacion2D :\n",
    "    \n",
    "    def __init__ (self,Nfilas,Ncolumnas,chrInit) :\n",
    "        self.Nf = Nfilas\n",
    "        self.Nc = Ncolumnas\n",
    "        self.chrInit = chrInit\n",
    "\n",
    "    def codifica(self,f,c) :\n",
    "        return self.Nc * f + c\n",
    "\n",
    "    def decodifica(self,n):\n",
    "        f = int(n / self.Nc)\n",
    "        c = n % self.Nc\n",
    "        return f, c\n",
    "    \n",
    "    def P(self,f,c) :\n",
    "        codigo = self.codifica(f,c)\n",
    "        return chr(self.chrInit+codigo)\n",
    "    \n",
    "    def Pinv(self,codigo) :\n",
    "        n = ord(codigo)-self.chrInit\n",
    "        return self.decodifica(n)"
   ]
  },
  {
   "cell_type": "markdown",
   "metadata": {},
   "source": [
    "Observe que la clase `ObjetoCodificacion2D` toma como parámetros la cantidad total de filas `Nf` y la cantidad total de columnas `Nc`. \n",
    "\n",
    "El método `codifica` recibe como parámetro una fila y una columna. Al realizar la operación `Nc` * f + c, se obtiene un valor como número entero, el cual será único para la casilla especificada. En el siguiente fragmento de código se observa como, en un solo número, es almacenada la información tanto de la fila como de la columna de la casilla dada."
   ]
  },
  {
   "cell_type": "code",
   "execution_count": null,
   "metadata": {},
   "outputs": [],
   "source": [
    "# Se define el rango de opciones para cada dimensión de información\n",
    "Nfilas = 2\n",
    "Ncolumnas = 2\n",
    "\n",
    "# Se crea el objeto de codificación\n",
    "cods = objetoCodificacion2D(Nfilas,Ncolumnas,256)\n",
    "\n",
    "# Se recorren todas las opciones de las dimensiones de información para visualizar su codificación\n",
    "print(u\"Números correspondientes a la codificación:\")\n",
    "print(\"\\nfilas x columnas\")\n",
    "for i in range(Nfilas):\n",
    "    for j in range(Ncolumnas):\n",
    "        v1 = cods.codifica(i,j)\n",
    "        print(v1,end=\" \")\n",
    "    print(\"\")"
   ]
  },
  {
   "cell_type": "markdown",
   "metadata": {},
   "source": [
    "Este método está muy relacionada con `decodifica`, el cual recibe como parámetros un número entero `n` y encuentra la fila y la columna representadas por `n`. En otras palabras, el método `decodifica` es el inverso de `codifica`. El método `decodifica` halla la fila tomando la parte entera de `n/Nc`, y encuentra la columna tomando el residuo de esta operación. De esta manera, se puede encontrar la fila y la columna representadas por el número entero, únicamente conociendo las dimensiones del problema:"
   ]
  },
  {
   "cell_type": "code",
   "execution_count": null,
   "metadata": {},
   "outputs": [],
   "source": [
    "for v1 in range(Nfilas * Ncolumnas):\n",
    "    f, c = cods.decodifica(v1)\n",
    "    print('n:'+str(v1)+', Fila:'+str(f)+', Columna:'+str(c))"
   ]
  },
  {
   "cell_type": "markdown",
   "metadata": {},
   "source": [
    "En un problema que solamente requiera cruzar información acerca de la fila y columna, se puede proceder a transformar la salida de la función `codifica` en caracteres. Se presentará el código en Python que cumple esta tarea, y después retomaremos el problema original, con tres variables.\n",
    "\n",
    "El siguiente código ilustra cómo utilizar la función `codifica` para representar cada letra proposicional como un único caracter. Para esto, se transforman los códigos generados en caracteres ASCII, y estos últimos se toman como las letras proposicionales del problema:"
   ]
  },
  {
   "cell_type": "code",
   "execution_count": null,
   "metadata": {},
   "outputs": [],
   "source": [
    "letras = []\n",
    "print(\"\\n\\nfilas x columnas\")\n",
    "for f in range(Nfilas):\n",
    "    for c in range(Ncolumnas):\n",
    "        cod = cods.P(f, c)\n",
    "        print(cod,end=\" \")\n",
    "        letras.append(cod)\n",
    "    print(\"\")"
   ]
  },
  {
   "cell_type": "markdown",
   "metadata": {},
   "source": [
    "Similarmente, se utiliza la función `decodifica` de la siguiente manera, para obtener la fila y columna de la casilla representada por el caracter:"
   ]
  },
  {
   "cell_type": "code",
   "execution_count": null,
   "metadata": {},
   "outputs": [],
   "source": [
    "for cod in letras:\n",
    "    print('Letra='+cod,end=', ')\n",
    "    f, c = cods.Pinv(cod)\n",
    "    print('Fila='+str(f),end=', ')\n",
    "    print('Columna='+str(c))"
   ]
  },
  {
   "cell_type": "markdown",
   "metadata": {},
   "source": [
    "**Segunda etapa de la codificación de las letras proposicionales en Python**\n",
    "\n",
    "Retomando el problema original, debemos almacenar en un mismo caracter la información correspondiente a la fila, la columna y, adicionalmente, al número que llena la casilla. Para esto, nos basaremos en el objeto anterior para crear un objeto de codificación que nos permitan codificar tres variables. Este objeto para la representación P(fila, columna, número) mencionada anteriormente se presenta a continuación:"
   ]
  },
  {
   "cell_type": "code",
   "execution_count": null,
   "metadata": {},
   "outputs": [],
   "source": [
    "class objetoCodificacion3D :\n",
    "    \n",
    "    def __init__ (self,Nf,Nc,Nn,chrInit) :\n",
    "        self.Nf = Nf\n",
    "        self.Nc = Nc\n",
    "        self.Nn = Nn\n",
    "        self.chrInit = chrInit\n",
    "\n",
    "    def codifica(self,f,c,n) :\n",
    "        v1 = self.Nc * f + c\n",
    "        return self.Nn * v1 + n\n",
    "\n",
    "    def decodifica(self,codigo):\n",
    "        n = codigo % self.Nn\n",
    "        v1 = int(codigo / self.Nn)\n",
    "        c = v1 % self.Nc\n",
    "        f = int(v1 / self.Nc)\n",
    "        return f, c, n\n",
    "    \n",
    "    def P(self,f,c,n) :\n",
    "        codigo = self.codifica(f,c,n)\n",
    "        return chr(self.chrInit + codigo)\n",
    "    \n",
    "    def Pinv(self,codigo) :\n",
    "        v = ord(codigo)-self.chrInit\n",
    "        return self.decodifica(v)"
   ]
  },
  {
   "cell_type": "markdown",
   "metadata": {},
   "source": [
    "Ahora trabajamos con una mayor cantidad de argumentos funcionales. Para definir el objeto de codificación se requieren los parámetros de cantidad total de filas `Nf`, cantidad total de columnas `Nc` y cantidad total de números `Nn`. Para usar el método `P` se recibe la fila `f`, la columna `c` y el valor `n`, se usa dos veces la codificación mediante multiplicación, como se observa en el código, y se obtiene una letra proposicional única para representar un número dado en una casilla específica. Similarmente, la función `Pinv` retorna la fila `f`, la columna `c`, y el número `n`, codificados en un caracter dado. A continuación, se presenta un posible uso de estas dos funciones:"
   ]
  },
  {
   "cell_type": "code",
   "execution_count": null,
   "metadata": {},
   "outputs": [],
   "source": [
    "# Se define el rango de opciones para cada dimensión de información\n",
    "Nfilas = 2\n",
    "Ncolumnas = 2\n",
    "Nnumeros = 4\n",
    "\n",
    "# Se crea el objeto de codificación\n",
    "cods = objetoCodificacion3D(Nfilas,Ncolumnas,Nnumeros,256)\n",
    "\n",
    "# Se recorren todas las opciones de las dimensiones de información para visualizar su codificación\n",
    "letras = []\n",
    "for n in range(Nnumeros):\n",
    "    print(\"Numero: \"+str(n))\n",
    "    print(\"filas x columnas\")\n",
    "    for f in range(Nfilas):\n",
    "        for c in range(Ncolumnas):\n",
    "            cod = cods.P(f,c,n)\n",
    "            print(cod,end=\" \")\n",
    "            letras.append(cod)\n",
    "        print(\"\")\n",
    "    print('\\n')"
   ]
  },
  {
   "cell_type": "markdown",
   "metadata": {},
   "source": [
    "**Ejercicio 1:**\n",
    "\n",
    "Para cada letra codificada, imprima la decodificación del número, fila y columna que ella representa."
   ]
  },
  {
   "cell_type": "code",
   "execution_count": null,
   "metadata": {},
   "outputs": [],
   "source": [
    "# Implemente en esta celda el código para decodificar n en los tres argumentos, número, fila y columna\n",
    "# e imprima dichos argumentos en el formato n= , numero= , fila= , columna = "
   ]
  },
  {
   "cell_type": "markdown",
   "metadata": {},
   "source": [
    "### Restricciones del problema\n",
    "Ahora, es necesario crear las reglas que limitarán los posibles valores de verdad para las letras proposicionales. En nuestro problema tenemos tres restricciones:\n",
    "\n",
    "1. En cada casilla debe haber por lo menos un número. \n",
    "2. En cada casilla no puede haber más de un número. \n",
    "3. El mismo número no puede repetirse en casillas diferentes.\n",
    "\n",
    "Para representar estas restricciones, se propone el siguiente procedimiento:"
   ]
  },
  {
   "cell_type": "markdown",
   "metadata": {},
   "source": [
    "**Pasos para obtener la primera restricción**\n",
    "\n",
    "Mostraremos una serie de pasos que nos permitirán entender cuál es la fórmula que debemos usar, y cómo implementarla, para representar la primera restricción. Comenzaremos con fórmulas particulares y por pasos llegaremos a la generalidad que necesitamos.\n",
    "\n",
    "Comencemos considerando la fórmula para representar que **la casilla (0,0)** debe tener por lo menos un número, que es la siguiente:\n",
    "\n",
    "$$\\bigvee_{n=0}^3 P(0,0,n)$$\n",
    "\n",
    "la cual se implementa en Python de la siguiente manera:"
   ]
  },
  {
   "cell_type": "code",
   "execution_count": null,
   "metadata": {},
   "outputs": [],
   "source": [
    "inicial=True\n",
    "for n in range(4):\n",
    "    if inicial:\n",
    "        formula=cods.P(0,0,n)\n",
    "        inicial=False\n",
    "    else:\n",
    "        formula=cods.P(0,0,n)+formula+\"O\"\n",
    "\n",
    "print(formula)"
   ]
  },
  {
   "cell_type": "markdown",
   "metadata": {},
   "source": [
    "Observe que la fórmula resultante está escrita en notación posfija y, por lo tanto, es difícil de entender a simple vista (aunque el computador puede trabajar con ella fácilmente). Para visualizarla de manera más comprensible, usaremos la siguiente versión modificada de la función `Inorder`. Pero antes de esto, requerimos la función `String2Tree` para convertir la fórmula que viene en notación polaca inversa a una respresentación en árboles. Después de tener el árbol, lo introducimos en la función `Inorderp`, la cual retorna una fórmula legible en función de las letras proposicionales que utilizamos."
   ]
  },
  {
   "cell_type": "code",
   "execution_count": null,
   "metadata": {},
   "outputs": [],
   "source": [
    "class Tree(object):\n",
    "    def __init__(self, label, left, right):\n",
    "        self.left = left\n",
    "        self.right = right\n",
    "        self.label = label\n",
    "        \n",
    "def String2Tree(A):\n",
    "    # Crea una formula como tree dada una formula como cadena escrita en notacion polaca inversa\n",
    "    # Input: - A, lista de caracteres con una formula escrita en notacion polaca inversa\n",
    "    #        - letrasProposicionales, lista de letras proposicionales\n",
    "    #        - conectivos, lista de conectivos\n",
    "    # Output: formula como tree\n",
    "    pila = []\n",
    "    for c in A:\n",
    "        # print(\"Examinando \" + str(c))\n",
    "        if c in letrasProposicionales:\n",
    "            # print(u\"El símbolo es letra proposicional\")\n",
    "            pila.append(Tree(c, None, None))\n",
    "        elif c == '-':\n",
    "            # print(\"Negamos\")\n",
    "            formulaAux = Tree(c, None, pila[-1])\n",
    "            del pila[-1]\n",
    "            pila.append(formulaAux)\n",
    "        elif c in conectivos:\n",
    "        # print(\"Unimos mediante conectivo\")\n",
    "            formulaAux = Tree(c, pila[-1], pila[-2])\n",
    "            del pila[-1]\n",
    "            del pila[-1]\n",
    "            pila.append(formulaAux)\n",
    "        else:\n",
    "            print(u\"Hay un problema: el símbolo \" + str(c) + \" no se reconoce\")\n",
    "    return pila[-1]\n",
    "\n",
    "def Inorderp(f):\n",
    "    # Imprime una formula como cadena dada una formula como arbol\n",
    "    # de manera que las letras proposicionales sean legibles.\n",
    "    # Input: tree, que es una formula de logica proposicional\n",
    "    # Output: string de la formula\n",
    "\n",
    "    if f.right == None:\n",
    "        f,c,n = cods.Pinv(f.label)\n",
    "        return f\"P({f},{c},{n})\"\n",
    "    elif f.label == '-':\n",
    "        return f.label + Inorderp(f.right)\n",
    "    else:\n",
    "        return \"(\" + Inorderp(f.left) + f.label + \" \" + Inorderp(f.right) + \")\"\n",
    "\n"
   ]
  },
  {
   "cell_type": "code",
   "execution_count": null,
   "metadata": {},
   "outputs": [],
   "source": [
    "letrasProposicionales = [chr(x) for x in range(256,600)]\n",
    "#conectivos = [\"Y\", \"O\", \">\", \"=\"]\n",
    "A = String2Tree(formula)\n",
    "print(Inorderp(A))"
   ]
  },
  {
   "cell_type": "markdown",
   "metadata": {},
   "source": [
    "En el siguiente paso se debe replicar este procedimiento para las demás casillas, iterando sobre filas y columnas. Esto nos da la Y-toria siguiente:\n",
    "\n",
    "$$\\bigwedge_{f=0}^1\\bigwedge_{c=0}^1\\left(\\bigvee_{n=0}^3 P(0,0,n)\\right)$$\n",
    "\n",
    "Para facilidad de implementación, primero creamos una función que devuelve la fórmula que afirma que una casilla arbitraria $(f,c)$ no debe estar vacía:"
   ]
  },
  {
   "cell_type": "code",
   "execution_count": null,
   "metadata": {},
   "outputs": [],
   "source": [
    "def casilla_no_vacia(f,c) :\n",
    "    inicial=True\n",
    "    for z in range(4):\n",
    "        if inicial:\n",
    "            formula=cods.P(f,c,z)\n",
    "            inicial=False\n",
    "        else:\n",
    "            formula=cods.P(f,c,z)+formula+\"O\"\n",
    "\n",
    "    return formula"
   ]
  },
  {
   "cell_type": "markdown",
   "metadata": {},
   "source": [
    "**Ejercicio 2:**\n",
    "\n",
    "Implemente un código para crear una fórmula que dice que ninguna casilla debe estar vacía."
   ]
  },
  {
   "cell_type": "code",
   "execution_count": null,
   "metadata": {},
   "outputs": [],
   "source": [
    "# Implemente en esta celda la formula anterior como un string en notacion polaca inversa\n",
    "# y visualicela mediante el inorderp"
   ]
  },
  {
   "cell_type": "markdown",
   "metadata": {},
   "source": [
    "**Pasos para obtener la segunda restricción**\n",
    "\n",
    "El ejercicio 2 nos permitió generar una fórmula para representar la primera restricción. Ahora mostraremos una serie de pasos para representar la segunda restricción, a saber, que en cada casilla no puede haber más de un número.\n",
    "\n",
    "Comencemos por implementar una función para crear una fórmula que diga que si en la casilla $(0,0)$ ya está el número 0, no puede haber otro número. La fórmula es:\n",
    "\n",
    "$$P(0,0,0) \\to \\neg\\left(\\bigvee_{z=1}^3P(0,0,z)\\right)$$\n",
    "\n",
    "Su implementación en python es:"
   ]
  },
  {
   "cell_type": "code",
   "execution_count": null,
   "metadata": {},
   "outputs": [],
   "source": [
    "inicial = True\n",
    "rango = [z for z in range(cods.Nn) if z != 0]\n",
    "for z in rango:\n",
    "    if inicial:\n",
    "        formula = cods.P(0,0,z)\n",
    "        inicial = False\n",
    "    else:\n",
    "        formula = cods.P(0,0,z) + formula + \"O\"\n",
    "        \n",
    "formula = formula + \"-\" + cods.P(0,0,0) + '>'\n",
    "A = String2Tree(formula)\n",
    "print(Inorderp(A))"
   ]
  },
  {
   "cell_type": "markdown",
   "metadata": {},
   "source": [
    "**Ejercicio 3:**\n",
    "\n",
    "Implemente una función que permita obtener la fórmula que dice que si en la casilla $(f,c)$ está el número $n$, entonces no puede haber ningún otro número. Esta fórmula es:\n",
    "\n",
    "$$P(f,c,n) \\to \\neg\\left(\\bigvee_{x\\neq n}P(f,c,x)\\right)$$\n"
   ]
  },
  {
   "cell_type": "code",
   "execution_count": null,
   "metadata": {},
   "outputs": [],
   "source": [
    "# Implemente en esta celda una función que cree la formula anterior como un string en notacion\n",
    "# polaca inversa y visualicela mediante el inorderp"
   ]
  },
  {
   "cell_type": "markdown",
   "metadata": {},
   "source": [
    "A continuación hacemos una Y-toria sobre todos los números entre 0 y 3 y, finalmente, para todas las filas y columnas, de tal manera que implementamos la fórmula:\n",
    "\n",
    "$$\\bigwedge_{f=0}^1\\bigwedge_{c=0}^1\\bigwedge_{n=0}^3\\left(P(f,c,n) \\to \\neg\\left(\\bigvee_{x\\neq n}P(f,c,x)\\right)\\right)$$"
   ]
  },
  {
   "cell_type": "markdown",
   "metadata": {},
   "source": [
    "**Ejercicio 4:**\n",
    "\n",
    "Usando la función del ejercicio 3, implemente un código que permita obtener la fórmula anterior, la cual representa la segunda restricción."
   ]
  },
  {
   "cell_type": "code",
   "execution_count": null,
   "metadata": {},
   "outputs": [],
   "source": [
    "# Implemente en esta celda la formula anterior como un string en notación polaca inversa\n",
    "# y visualicela mediante el inorderp"
   ]
  },
  {
   "cell_type": "markdown",
   "metadata": {},
   "source": [
    "**Pasos para obtener la tercera restricción**\n",
    "\n",
    "Ya tenemos una fórmula para representar la primera restricción y otra para la segunda. Ahora mostraremos una serie de pasos para representar la tercera y última restricción, a saber, que un número no puede estar en más de una casilla. Esta implementación es muy parecida a la de la segunda restricción, pero en lugar de restringir números, restringimos casillas.\n",
    "\n",
    "Comencemos por implementar una función para crear una fórmula que diga que si en la casilla $(f,c)$ ya está el número $n$, no puede haber otra casilla con el mismo número. La fórmula es:\n",
    "\n",
    "$$P(f,c,n) \\to \\neg\\left(\\bigvee_{(x,y)\\neq (f,c)}P(x,y,n)\\right)$$"
   ]
  },
  {
   "cell_type": "markdown",
   "metadata": {},
   "source": [
    "**Ejercicio 5:** Implemente una función para crear la fórmula anterior como un string de Python."
   ]
  },
  {
   "cell_type": "code",
   "execution_count": null,
   "metadata": {},
   "outputs": [],
   "source": [
    "# Implemente en esta celda una función que cree la formula anterior como un string en notacion\n",
    "# polaca inversa y visualicela mediante el inorderp"
   ]
  },
  {
   "cell_type": "markdown",
   "metadata": {},
   "source": [
    "**Ejercicio 6:** Implemente la fórmula que representa la tercera restricción como un string de Python."
   ]
  },
  {
   "cell_type": "code",
   "execution_count": null,
   "metadata": {},
   "outputs": [],
   "source": [
    "# Implemente en esta celda la formula que representa la tercera restricción como un string en notación polaca inversa\n",
    "# y visualicela mediante el inorderp"
   ]
  },
  {
   "cell_type": "markdown",
   "metadata": {},
   "source": [
    "**Ejercicio 7:** Implemente el objeto de codificación `objetoCodificacion4D` para cruzar información de cuatro dimensiones distintas."
   ]
  },
  {
   "cell_type": "code",
   "execution_count": null,
   "metadata": {},
   "outputs": [],
   "source": [
    "# Implemente en esta celda el objetoCodificacion4D"
   ]
  },
  {
   "cell_type": "markdown",
   "metadata": {},
   "source": [
    "---"
   ]
  },
  {
   "cell_type": "markdown",
   "metadata": {},
   "source": [
    "En este taller, usted aprendió a:\n",
    "\n",
    "1) Emplear letras proposicionales en Python para representar el cruce de información porcionada por dos o más variables.\n",
    "\n",
    "2) Usar la notación $P(x_1,...,x_n)$ en Python para cruzar información.\n",
    "\n",
    "3) Implementar las notaciones $\\displaystyle\\bigwedge_{x\\in SET}$  y  $\\displaystyle\\bigvee_{x\\in SET}$ dentro de Python.\n",
    "\n",
    "4) Representar información mediante lógica proposicional e implimentarla en Python."
   ]
  }
 ],
 "metadata": {
  "kernelspec": {
   "display_name": "Python 3",
   "language": "python",
   "name": "python3"
  },
  "language_info": {
   "codemirror_mode": {
    "name": "ipython",
    "version": 3
   },
   "file_extension": ".py",
   "mimetype": "text/x-python",
   "name": "python",
   "nbconvert_exporter": "python",
   "pygments_lexer": "ipython3",
   "version": "3.8.5"
  }
 },
 "nbformat": 4,
 "nbformat_minor": 4
}
